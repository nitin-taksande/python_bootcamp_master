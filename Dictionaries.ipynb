{
 "cells": [
  {
   "cell_type": "markdown",
   "metadata": {},
   "source": [
    "- Dictionaries are unordered mappings for storing objects\n",
    "- Dictionaries are key-value pairs which allow users to quickly grab objects without needing to know an index location \n",
    "- {'key1':'value1' , 'key2':'value2'}\n",
    "- Dictionaries can not be sorted\n",
    "- Keys should be strings \n",
    "- Values can be anything "
   ]
  },
  {
   "cell_type": "code",
   "execution_count": 1,
   "metadata": {},
   "outputs": [],
   "source": [
    "my_dict = {'key1':'value1','key2':'value2'}"
   ]
  },
  {
   "cell_type": "code",
   "execution_count": 2,
   "metadata": {},
   "outputs": [
    {
     "data": {
      "text/plain": [
       "{'key1': 'value1', 'key2': 'value2'}"
      ]
     },
     "execution_count": 2,
     "metadata": {},
     "output_type": "execute_result"
    }
   ],
   "source": [
    "my_dict"
   ]
  },
  {
   "cell_type": "code",
   "execution_count": 3,
   "metadata": {},
   "outputs": [
    {
     "data": {
      "text/plain": [
       "'value1'"
      ]
     },
     "execution_count": 3,
     "metadata": {},
     "output_type": "execute_result"
    }
   ],
   "source": [
    "my_dict['key1']"
   ]
  },
  {
   "cell_type": "code",
   "execution_count": 4,
   "metadata": {},
   "outputs": [],
   "source": [
    "price_lookup = {'apple': 2.98, 'oranges': 1.99, 'milk': 5.70, 'gfbread': 4.50 , 'rgbread': 1.99}"
   ]
  },
  {
   "cell_type": "code",
   "execution_count": 7,
   "metadata": {},
   "outputs": [
    {
     "name": "stdout",
     "output_type": "stream",
     "text": [
      "Milk price is $5.7\n",
      "Gluten Free Bread price is $4.5\n",
      "Regular Bread price is $1.99\n"
     ]
    }
   ],
   "source": [
    "print('Milk price is $' + str(price_lookup['milk']))\n",
    "print('Gluten Free Bread price is $' + str(price_lookup['gfbread']))\n",
    "print('Regular Bread price is $' + str(price_lookup['rgbread']))"
   ]
  },
  {
   "cell_type": "code",
   "execution_count": 10,
   "metadata": {},
   "outputs": [
    {
     "name": "stdout",
     "output_type": "stream",
     "text": [
      "******direct values from d *******\n",
      "123\n",
      "[0, 1, 2, 3]\n",
      "{'insidekey': 100}\n",
      "*******values from a list******\n",
      "2\n",
      "*********Value from dict inside d***\n",
      "100\n"
     ]
    }
   ],
   "source": [
    "#you can have a list or a dict inside of a dict\n",
    "#I am using print so I can have multiple output from same cell execution\n",
    "d = {'k1':123 , 'k2': [0,1,2,3] , 'k3' : {'insidekey':100}}\n",
    "\n",
    "#to get direct values from d \n",
    "print('******direct values from d *******')\n",
    "print(d['k1'])\n",
    "print(d['k2'])\n",
    "print(d['k3'])\n",
    "\n",
    "#to get values from a list\n",
    "print('*******values from a list******')\n",
    "print(d['k2'][2])\n",
    "\n",
    "\n",
    "#to get values from dict inside of d\n",
    "print('*********Value from dict inside d***')\n",
    "print(d['k3']['insidekey'])\n"
   ]
  },
  {
   "cell_type": "code",
   "execution_count": 11,
   "metadata": {},
   "outputs": [],
   "source": [
    "#add new value value to dict\n",
    "d2 = {'k1':100, 'k2':200}"
   ]
  },
  {
   "cell_type": "code",
   "execution_count": 12,
   "metadata": {},
   "outputs": [
    {
     "data": {
      "text/plain": [
       "{'k1': 100, 'k2': 200}"
      ]
     },
     "execution_count": 12,
     "metadata": {},
     "output_type": "execute_result"
    }
   ],
   "source": [
    "d2"
   ]
  },
  {
   "cell_type": "code",
   "execution_count": 13,
   "metadata": {},
   "outputs": [],
   "source": [
    "#dictionary keyname and value\n",
    "d2['k3'] = 400"
   ]
  },
  {
   "cell_type": "code",
   "execution_count": 14,
   "metadata": {},
   "outputs": [
    {
     "data": {
      "text/plain": [
       "{'k1': 100, 'k2': 200, 'k3': 400}"
      ]
     },
     "execution_count": 14,
     "metadata": {},
     "output_type": "execute_result"
    }
   ],
   "source": [
    "d2"
   ]
  },
  {
   "cell_type": "code",
   "execution_count": 16,
   "metadata": {},
   "outputs": [
    {
     "name": "stdout",
     "output_type": "stream",
     "text": [
      "dict_keys(['k1', 'k2', 'k3'])\n",
      "dict_values([100, 200, 400])\n",
      "dict_items([('k1', 100), ('k2', 200), ('k3', 400)])\n"
     ]
    }
   ],
   "source": [
    "#returning all keys use dic.keys()\n",
    "print(d2.keys())\n",
    "\n",
    "#returning all values use dict.values()\n",
    "print(d2.values())\n",
    "\n",
    "#returning both dict.items() This will rerurn a tuple\n",
    "print(d2.items())"
   ]
  },
  {
   "cell_type": "code",
   "execution_count": null,
   "metadata": {},
   "outputs": [],
   "source": []
  }
 ],
 "metadata": {
  "kernelspec": {
   "display_name": "Python 3",
   "language": "python",
   "name": "python3"
  },
  "language_info": {
   "codemirror_mode": {
    "name": "ipython",
    "version": 3
   },
   "file_extension": ".py",
   "mimetype": "text/x-python",
   "name": "python",
   "nbconvert_exporter": "python",
   "pygments_lexer": "ipython3",
   "version": "3.7.1"
  }
 },
 "nbformat": 4,
 "nbformat_minor": 2
}
