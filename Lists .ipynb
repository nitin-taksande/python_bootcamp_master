{
 "cells": [
  {
   "cell_type": "markdown",
   "metadata": {},
   "source": [
    "- List are ordered sequcenes that can hold variety of object types\n",
    "- [] defines a list \n",
    "- , us used to seperate objects in a list\n",
    "- List supports indexing and slicing \n"
   ]
  }
 ],
 "metadata": {
  "kernelspec": {
   "display_name": "Python 3",
   "language": "python",
   "name": "python3"
  },
  "language_info": {
   "codemirror_mode": {
    "name": "ipython",
    "version": 3
   },
   "file_extension": ".py",
   "mimetype": "text/x-python",
   "name": "python",
   "nbconvert_exporter": "python",
   "pygments_lexer": "ipython3",
   "version": "3.7.1"
  }
 },
 "nbformat": 4,
 "nbformat_minor": 2
}
