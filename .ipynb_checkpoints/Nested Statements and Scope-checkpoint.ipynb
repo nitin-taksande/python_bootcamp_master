{
 "cells": [
  {
   "cell_type": "markdown",
   "metadata": {},
   "source": [
    "Variable Names:\n",
    "When you assign a variable in python the name is stored in namespace and the variable names has a scope. The scope determines the visibility of the variable name to other parts of the code.\n",
    "\n",
    "- Python follows a LEGB rules format\n",
    "    - L - Local - name assigned in any way within a function and not declared global in that function \n",
    "    \n",
    "    - E - Enclosing function Locals - Names in local scope of any and all enclosing functions, from inner to outer\n",
    "    \n",
    "    - G - Global - Names assigned at the top evel of a module file, or declared global in a def within the file.\n",
    "    \n",
    "    - B - Built-in - Names preassigned in the built-in names module: open, range "
   ]
  },
  {
   "cell_type": "code",
   "execution_count": 1,
   "metadata": {},
   "outputs": [],
   "source": [
    "x = 25\n",
    "\n",
    "def printer():\n",
    "    x = 50 \n",
    "    return x"
   ]
  },
  {
   "cell_type": "code",
   "execution_count": 2,
   "metadata": {},
   "outputs": [
    {
     "name": "stdout",
     "output_type": "stream",
     "text": [
      "25\n"
     ]
    }
   ],
   "source": [
    "print(x)"
   ]
  },
  {
   "cell_type": "code",
   "execution_count": 3,
   "metadata": {},
   "outputs": [
    {
     "name": "stdout",
     "output_type": "stream",
     "text": [
      "50\n"
     ]
    }
   ],
   "source": [
    "print(printer())"
   ]
  },
  {
   "cell_type": "code",
   "execution_count": 4,
   "metadata": {},
   "outputs": [
    {
     "data": {
      "text/plain": [
       "<function __main__.<lambda>(num)>"
      ]
     },
     "execution_count": 4,
     "metadata": {},
     "output_type": "execute_result"
    }
   ],
   "source": [
    "#example of local \n",
    "# in the following num is local to the lambda function \n",
    "lambda num:num**2"
   ]
  },
  {
   "cell_type": "code",
   "execution_count": 7,
   "metadata": {},
   "outputs": [
    {
     "name": "stdout",
     "output_type": "stream",
     "text": [
      "Hello Sam\n"
     ]
    }
   ],
   "source": [
    "#folloing is defined in global namespace\n",
    "name = \"THIS IS A GLOBAL STRING\"\n",
    "\n",
    "def greet():\n",
    "    #variable defined here is in enclosing local name space\n",
    "    name = 'Sam'\n",
    "    \n",
    "    def hello():\n",
    "        #variable defined here is local namespace\n",
    "        print('Hello '+ name)\n",
    "        \n",
    "    hello()\n",
    "    \n",
    "greet()\n",
    "\n",
    "#In the above code the python first checks if the name variable\n",
    "#is defined in the local name space. If not it will look at \n",
    "#enclosing local namespace. If it didnt find anything there then \n",
    "#it will look at global namespace. Next cell has the example \n",
    "#of how python checked for variables\n"
   ]
  },
  {
   "cell_type": "code",
   "execution_count": 8,
   "metadata": {},
   "outputs": [
    {
     "name": "stdout",
     "output_type": "stream",
     "text": [
      "Hello THIS IS A GLOBAL STRING\n"
     ]
    }
   ],
   "source": [
    "#folloing is defined in global namespace\n",
    "name = \"THIS IS A GLOBAL STRING\"\n",
    "\n",
    "def greet():\n",
    "    #variable defined here is in enclosing local name space\n",
    "   # name = 'Sam'\n",
    "    \n",
    "    def hello():\n",
    "        #variable defined here is local namespace\n",
    "        print('Hello '+ name)\n",
    "        \n",
    "    hello()\n",
    "    \n",
    "greet()"
   ]
  },
  {
   "cell_type": "code",
   "execution_count": 18,
   "metadata": {},
   "outputs": [],
   "source": [
    "#using the following way you can reach out the global namespace \n",
    "#and modify the variable at global level \n",
    "\n",
    "#This is a global assignment\n",
    "x = 50 \n",
    "y = 60\n",
    "\n",
    "def func():\n",
    "    #following will tell python to get the value of x from global \n",
    "    #namespace and use the global namespace of x going forward\n",
    "    #You can see the difference as we will not change the scope of y\n",
    "    global x\n",
    "    \n",
    "    y = 60\n",
    "    \n",
    "    print(f'x is {x}')\n",
    "    print(f'y is {y}')\n",
    "    \n",
    "    #Local assignment of global variable\n",
    "    x = ' NEW VALUE'\n",
    "    print(f'I have locally changed global variable x to {x}')\n",
    "\n",
    "    #Local assignment of non global variable \n",
    "    y = 'New Value for y'\n",
    "    print(f'I have locally changed LOCAL variable y to {y}')\n",
    "\n",
    "    "
   ]
  },
  {
   "cell_type": "code",
   "execution_count": 19,
   "metadata": {},
   "outputs": [
    {
     "name": "stdout",
     "output_type": "stream",
     "text": [
      "Current Global Value of x is 50\n",
      "Current Global Value of y is 60\n",
      "x is 50\n",
      "y is 60\n",
      "I have locally changed global variable x to  NEW VALUE\n",
      "I have locally changed LOCAL variable y to New Value for y\n",
      "Modified Global Value of x is  NEW VALUE\n",
      "Non Modified Global Value of y is 60\n"
     ]
    }
   ],
   "source": [
    "#Printing out current global values without function execution\n",
    "print('Current Global Value of x is ' + str(x))\n",
    "print('Current Global Value of y is ' + str(y))\n",
    "\n",
    "#Executing the function created \n",
    "func()\n",
    "\n",
    "#Printing out new global values without function execution\n",
    "print('Modified Global Value of x is ' + str(x))\n",
    "print('Non Modified Global Value of y is ' + str(y))\n"
   ]
  },
  {
   "cell_type": "code",
   "execution_count": null,
   "metadata": {},
   "outputs": [],
   "source": []
  }
 ],
 "metadata": {
  "kernelspec": {
   "display_name": "Python 3",
   "language": "python",
   "name": "python3"
  },
  "language_info": {
   "codemirror_mode": {
    "name": "ipython",
    "version": 3
   },
   "file_extension": ".py",
   "mimetype": "text/x-python",
   "name": "python",
   "nbconvert_exporter": "python",
   "pygments_lexer": "ipython3",
   "version": "3.7.1"
  }
 },
 "nbformat": 4,
 "nbformat_minor": 2
}
